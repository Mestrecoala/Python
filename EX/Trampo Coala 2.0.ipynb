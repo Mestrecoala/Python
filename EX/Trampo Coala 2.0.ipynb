{
 "cells": [
  {
   "cell_type": "code",
   "execution_count": 2,
   "id": "ab762584",
   "metadata": {
    "scrolled": true
   },
   "outputs": [],
   "source": [
    "import pyautogui as pt\n",
    "import time\n",
    "from selenium import webdriver\n",
    "from selenium.webdriver.common.by import By\n",
    "from selenium.webdriver.support import expected_conditions as EC"
   ]
  },
  {
   "cell_type": "raw",
   "id": "c0ef5d2e",
   "metadata": {},
   "source": [
    "# pt.PAUSE = 1.0 #Tempo de espera da máquina\n",
    "\n",
    "#pt.press('winleft')\n",
    "#pt.write('Google Chrome')\n",
    "#pt.press('enter')\n",
    "#time.sleep(1)\n",
    "#pt.write('')\n",
    "#pt.press('enter')\n",
    "#time.sleep(5)"
   ]
  },
  {
   "cell_type": "code",
   "execution_count": 3,
   "id": "f29a623f",
   "metadata": {},
   "outputs": [
    {
     "name": "stdout",
     "output_type": "stream",
     "text": [
      "login: adminmoodle\n",
      "Senha: Site1408\n"
     ]
    }
   ],
   "source": [
    "#t.alert('O relatório será processado.'\n",
    "#        'Não utilize o computador enquanto o código está rodando.'\n",
    "#        'Aperte OK e não mexa no mouse ou teclado')#Código de alerta para o início da automação\n",
    "Login = input(\"login: \");\n",
    "Senha = input(\"Senha: \");\n",
    "\n",
    "navegador = webdriver.Chrome();\n",
    "\n",
    "\n",
    "navegador.get(\"https://atic.com.br/metrolms/\");\n",
    "time.sleep(2);\n",
    "elemento = navegador.find_element(By.XPATH, '//*[@id=\"Mainmenu\"]/ul/li[2]/div/span/a');\n",
    "elemento.click();\n",
    "\n",
    "\n",
    "elemento = navegador.find_element(By.XPATH, '//*[@id=\"username\"]');\n",
    "elemento.click();\n",
    "time.sleep(1);\n",
    "pt.write(Login);\n",
    "time.sleep(1);\n",
    "elemento = navegador.find_element(By.XPATH, '//*[@id=\"password\"]');\n",
    "elemento.click();\n",
    "pt.write(Senha);\n",
    "pt.press('enter');\n",
    "\n",
    "\n",
    "time.sleep(1);\n",
    "\n",
    "\n",
    "elemento = navegador.find_element(By.XPATH, '//*[@id=\"nav-drawer\"]/nav[2]/ul/li/a');\n",
    "elemento.click();\n",
    "elemento = navegador.find_element(By.XPATH, '//*[@id=\"region-main\"]/div/ul/li[8]/a');\n",
    "elemento.click();"
   ]
  },
  {
   "cell_type": "code",
   "execution_count": null,
   "id": "8835d606",
   "metadata": {},
   "outputs": [],
   "source": [
    "login: adminmoodle\n",
    "Senha: Site1408"
   ]
  }
 ],
 "metadata": {
  "kernelspec": {
   "display_name": "Python 3 (ipykernel)",
   "language": "python",
   "name": "python3"
  },
  "language_info": {
   "codemirror_mode": {
    "name": "ipython",
    "version": 3
   },
   "file_extension": ".py",
   "mimetype": "text/x-python",
   "name": "python",
   "nbconvert_exporter": "python",
   "pygments_lexer": "ipython3",
   "version": "3.11.4"
  }
 },
 "nbformat": 4,
 "nbformat_minor": 5
}
